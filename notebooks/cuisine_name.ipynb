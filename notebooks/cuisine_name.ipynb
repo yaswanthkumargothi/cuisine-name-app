{
  "nbformat": 4,
  "nbformat_minor": 0,
  "metadata": {
    "colab": {
      "name": "cuisine_name.ipynb",
      "provenance": [],
      "mount_file_id": "1hjmwofwZnV_jfIjYb49gMEU1uBYlaxOk",
      "authorship_tag": "ABX9TyMaHv64MbGgS9VxcM5i5Q38",
      "include_colab_link": true
    },
    "kernelspec": {
      "name": "python3",
      "display_name": "Python 3"
    },
    "language_info": {
      "name": "python"
    }
  },
  "cells": [
    {
      "cell_type": "markdown",
      "metadata": {
        "id": "view-in-github",
        "colab_type": "text"
      },
      "source": [
        "<a href=\"https://colab.research.google.com/github/yaswanthkumargothi/cuisine-name-app/blob/main/cuisine_name.ipynb\" target=\"_parent\"><img src=\"https://colab.research.google.com/assets/colab-badge.svg\" alt=\"Open In Colab\"/></a>"
      ]
    },
    {
      "cell_type": "code",
      "metadata": {
        "id": "dxlCIlrw3dMb"
      },
      "source": [
        "import os\n",
        "import cv2\n",
        "import keras\n",
        "import numpy as np\n",
        "import pandas as pd\n",
        "import seaborn as sn\n",
        "import tensorflow as tf\n",
        "import matplotlib.pyplot as plt\n",
        "from keras.optimizers import Adam\n",
        "from keras.models import Sequential\n",
        "from sklearn.metrics import classification_report,confusion_matrix\n",
        "from keras.layers import Dense, Conv2D , MaxPool2D , Flatten , Dropout"
      ],
      "execution_count": 1,
      "outputs": []
    },
    {
      "cell_type": "code",
      "metadata": {
        "id": "KLBp7AFs4F4d"
      },
      "source": [
        "#install kaggle for accessing data\n",
        "!pip install kaggle --upgrade\n"
      ],
      "execution_count": null,
      "outputs": []
    },
    {
      "cell_type": "code",
      "metadata": {
        "id": "8lWdpR7U6EUG"
      },
      "source": [
        "#make a kaggle directory in which we download .json kaggle key file\n",
        "!mkdir -p ~/.kaggle/\n",
        "\n"
      ],
      "execution_count": 4,
      "outputs": []
    },
    {
      "cell_type": "code",
      "metadata": {
        "colab": {
          "base_uri": "https://localhost:8080/",
          "height": 35
        },
        "id": "SWOJf6-q6LH8",
        "outputId": "1cd7ab17-37ae-4ef0-caea-9d1e14fd20a9"
      },
      "source": [
        "#download .json file and move to the kaggle directory\n",
        "!mv kaggle.json ~/.kaggle/\n",
        "\n",
        "#make a amazon directory to store downloaded data\n",
        "!mkdir -p ~/indianfood\n",
        "\n",
        "#change path variable to Amazon directory\n",
        "path = '/root/indianfood'\n",
        "\n",
        "path"
      ],
      "execution_count": 5,
      "outputs": [
        {
          "output_type": "execute_result",
          "data": {
            "application/vnd.google.colaboratory.intrinsic+json": {
              "type": "string"
            },
            "text/plain": [
              "'/root/indianfood'"
            ]
          },
          "metadata": {
            "tags": []
          },
          "execution_count": 5
        }
      ]
    },
    {
      "cell_type": "code",
      "metadata": {
        "colab": {
          "base_uri": "https://localhost:8080/"
        },
        "id": "5DECbaz56XKK",
        "outputId": "bd5fa4bd-955a-4f07-944b-9e85975ae74d"
      },
      "source": [
        "#download train file\n",
        "!kaggle datasets download -d cdart99/food20dataset -p {path}"
      ],
      "execution_count": 6,
      "outputs": [
        {
          "output_type": "stream",
          "text": [
            "Warning: Your Kaggle API key is readable by other users on this system! To fix this, you can run 'chmod 600 /root/.kaggle/kaggle.json'\n",
            "Downloading food20dataset.zip to /root/indianfood\n",
            " 97% 422M/435M [00:03<00:00, 138MB/s]\n",
            "100% 435M/435M [00:03<00:00, 120MB/s]\n"
          ],
          "name": "stdout"
        }
      ]
    },
    {
      "cell_type": "code",
      "metadata": {
        "colab": {
          "base_uri": "https://localhost:8080/"
        },
        "id": "VTbkibVl99Qz",
        "outputId": "91b24ce0-5fde-480a-e7b4-42416f1e726a"
      },
      "source": [
        "os.listdir(path)"
      ],
      "execution_count": null,
      "outputs": [
        {
          "output_type": "execute_result",
          "data": {
            "text/plain": [
              "['food20dataset.zip']"
            ]
          },
          "metadata": {
            "tags": []
          },
          "execution_count": 11
        }
      ]
    },
    {
      "cell_type": "code",
      "metadata": {
        "id": "1Pbo3Hzk-hUd"
      },
      "source": [
        "!unzip {path}/food20dataset.zip -d {path}"
      ],
      "execution_count": null,
      "outputs": []
    },
    {
      "cell_type": "code",
      "metadata": {
        "id": "goU7B4M6_RwN"
      },
      "source": [
        "path = '/root/indianfood/food20dataset'"
      ],
      "execution_count": 8,
      "outputs": []
    },
    {
      "cell_type": "code",
      "metadata": {
        "colab": {
          "base_uri": "https://localhost:8080/"
        },
        "id": "KIeFsG-m_jJG",
        "outputId": "3d64be2b-043c-464c-8283-5091671e46d0"
      },
      "source": [
        "os.listdir(path)"
      ],
      "execution_count": 9,
      "outputs": [
        {
          "output_type": "execute_result",
          "data": {
            "text/plain": [
              "['train_set', 'test_set']"
            ]
          },
          "metadata": {
            "tags": []
          },
          "execution_count": 9
        }
      ]
    },
    {
      "cell_type": "code",
      "metadata": {
        "id": "z8d1A5tt_e4l"
      },
      "source": [
        "categories = os.listdir(path+'/test_set')"
      ],
      "execution_count": 10,
      "outputs": []
    },
    {
      "cell_type": "code",
      "metadata": {
        "colab": {
          "base_uri": "https://localhost:8080/"
        },
        "id": "jBbbAFoV_5JW",
        "outputId": "7e198ee1-2087-4cf0-b427-1b15b226ed09"
      },
      "source": [
        "categories"
      ],
      "execution_count": null,
      "outputs": [
        {
          "output_type": "execute_result",
          "data": {
            "text/plain": [
              "['gulab jamun',\n",
              " 'dhokla',\n",
              " 'poori',\n",
              " 'kathi roll',\n",
              " 'idly',\n",
              " 'meduvadai',\n",
              " 'tandoori chicken',\n",
              " 'butternaan',\n",
              " 'noodles',\n",
              " 'vada pav',\n",
              " 'biriyani',\n",
              " 'ven pongal',\n",
              " 'chaat',\n",
              " 'halwa',\n",
              " 'upma',\n",
              " 'bisibelebath',\n",
              " 'samosa',\n",
              " 'paniyaram',\n",
              " 'chappati',\n",
              " 'dosa']"
            ]
          },
          "metadata": {
            "tags": []
          },
          "execution_count": 23
        }
      ]
    },
    {
      "cell_type": "code",
      "metadata": {
        "colab": {
          "base_uri": "https://localhost:8080/"
        },
        "id": "XmUbFFI86j1r",
        "outputId": "61a4c60c-f66d-464b-8552-568d0615a497"
      },
      "source": [
        "\n",
        "\n",
        "img_size = 256\n",
        "def get_data(data_dir):\n",
        "    data = [] \n",
        "    for category in categories: \n",
        "        path = os.path.join(data_dir, category)\n",
        "        class_num = categories.index(category)\n",
        "        for img in os.listdir(path):\n",
        "            try:\n",
        "                img_arr = cv2.imread(os.path.join(path, img)) #[...,::-1] #convert BGR to RGB format #optional\n",
        "                resized_arr = cv2.resize(img_arr, (img_size, img_size)) #reshape\n",
        "                data.append([resized_arr, class_num])\n",
        "            except Exception as e:\n",
        "                print(e)\n",
        "    return np.array(data)\n",
        "\n",
        "train = get_data(path+'/train_set')\n",
        "val = get_data(path+'/test_set')\n",
        "\n",
        "x_train = []\n",
        "y_train = []\n",
        "x_val = []\n",
        "y_val = []\n",
        "\n",
        "for feature, label in train:\n",
        "  x_train.append(feature)\n",
        "  y_train.append(label)\n",
        "\n",
        "for feature, label in val:\n",
        "  x_val.append(feature)\n",
        "  y_val.append(label)\n",
        "\n",
        "# Normalize the data\n",
        "x_train = np.array(x_train) / 255\n",
        "x_val = np.array(x_val) / 255\n",
        "\n",
        "x_train.reshape(-1, img_size, img_size, 1)\n",
        "y_train = np.array(y_train)\n",
        "\n",
        "x_val.reshape(-1, img_size, img_size, 1)\n",
        "y_val = np.array(y_val)"
      ],
      "execution_count": 11,
      "outputs": [
        {
          "output_type": "stream",
          "text": [
            "/usr/local/lib/python3.7/dist-packages/ipykernel_launcher.py:16: VisibleDeprecationWarning: Creating an ndarray from ragged nested sequences (which is a list-or-tuple of lists-or-tuples-or ndarrays with different lengths or shapes) is deprecated. If you meant to do this, you must specify 'dtype=object' when creating the ndarray\n",
            "  app.launch_new_instance()\n"
          ],
          "name": "stderr"
        }
      ]
    },
    {
      "cell_type": "code",
      "metadata": {
        "colab": {
          "base_uri": "https://localhost:8080/"
        },
        "id": "YW-nZw37B8PO",
        "outputId": "6a5916d3-1267-47da-bded-ab8c94d5425e"
      },
      "source": [
        "x_train.shape"
      ],
      "execution_count": 12,
      "outputs": [
        {
          "output_type": "execute_result",
          "data": {
            "text/plain": [
              "(1400, 256, 256, 3)"
            ]
          },
          "metadata": {
            "tags": []
          },
          "execution_count": 12
        }
      ]
    },
    {
      "cell_type": "code",
      "metadata": {
        "colab": {
          "base_uri": "https://localhost:8080/"
        },
        "id": "dmOTe7_4CAB7",
        "outputId": "0bc205c3-4215-4583-e885-cc12a9a97cb2"
      },
      "source": [
        "base_model = tf.keras.applications.MobileNetV2(input_shape = (256, 256, 3), include_top = False, weights = \"imagenet\")\n",
        "base_model.trainable = False\n",
        "model = tf.keras.Sequential([base_model, tf.keras.layers.GlobalAveragePooling2D(), tf.keras.layers.Dropout(0.2), tf.keras.layers.Dense(20, activation=\"softmax\")])\n",
        "model.summary()"
      ],
      "execution_count": null,
      "outputs": [
        {
          "output_type": "stream",
          "text": [
            "WARNING:tensorflow:`input_shape` is undefined or non-square, or `rows` is not in [96, 128, 160, 192, 224]. Weights for input shape (224, 224) will be loaded as the default.\n",
            "Downloading data from https://storage.googleapis.com/tensorflow/keras-applications/mobilenet_v2/mobilenet_v2_weights_tf_dim_ordering_tf_kernels_1.0_224_no_top.h5\n",
            "9412608/9406464 [==============================] - 0s 0us/step\n",
            "Model: \"sequential\"\n",
            "_________________________________________________________________\n",
            "Layer (type)                 Output Shape              Param #   \n",
            "=================================================================\n",
            "mobilenetv2_1.00_224 (Functi (None, 8, 8, 1280)        2257984   \n",
            "_________________________________________________________________\n",
            "global_average_pooling2d (Gl (None, 1280)              0         \n",
            "_________________________________________________________________\n",
            "dropout (Dropout)            (None, 1280)              0         \n",
            "_________________________________________________________________\n",
            "dense (Dense)                (None, 20)                25620     \n",
            "=================================================================\n",
            "Total params: 2,283,604\n",
            "Trainable params: 25,620\n",
            "Non-trainable params: 2,257,984\n",
            "_________________________________________________________________\n"
          ],
          "name": "stdout"
        }
      ]
    },
    {
      "cell_type": "code",
      "metadata": {
        "colab": {
          "base_uri": "https://localhost:8080/",
          "height": 1000
        },
        "id": "mQ34QMZhCjij",
        "outputId": "497d68a2-8759-4c6d-9ea7-313cf56a1311"
      },
      "source": [
        "base_learning_rate = 0.0001\n",
        "model.compile(optimizer=tf.keras.optimizers.Adam(lr=base_learning_rate), loss=tf.keras.losses.SparseCategoricalCrossentropy(from_logits=True), metrics=['accuracy'])\n",
        "history1 = model.fit(x_train,y_train,epochs = 200 , validation_data = (x_val, y_val))"
      ],
      "execution_count": null,
      "outputs": [
        {
          "output_type": "stream",
          "text": [
            "/usr/local/lib/python3.7/dist-packages/tensorflow/python/keras/optimizer_v2/optimizer_v2.py:375: UserWarning: The `lr` argument is deprecated, use `learning_rate` instead.\n",
            "  \"The `lr` argument is deprecated, use `learning_rate` instead.\")\n"
          ],
          "name": "stderr"
        },
        {
          "output_type": "stream",
          "text": [
            "Epoch 1/200\n"
          ],
          "name": "stdout"
        },
        {
          "output_type": "stream",
          "text": [
            "/usr/local/lib/python3.7/dist-packages/tensorflow/python/keras/backend.py:4930: UserWarning: \"`sparse_categorical_crossentropy` received `from_logits=True`, but the `output` argument was produced by a sigmoid or softmax activation and thus does not represent logits. Was this intended?\"\n",
            "  '\"`sparse_categorical_crossentropy` received `from_logits=True`, but '\n"
          ],
          "name": "stderr"
        },
        {
          "output_type": "stream",
          "text": [
            "44/44 [==============================] - 73s 2s/step - loss: 3.4244 - accuracy: 0.0543 - val_loss: 3.1231 - val_accuracy: 0.0617\n",
            "Epoch 2/200\n",
            "44/44 [==============================] - 69s 2s/step - loss: 3.0522 - accuracy: 0.0907 - val_loss: 2.8818 - val_accuracy: 0.1183\n",
            "Epoch 3/200\n",
            "44/44 [==============================] - 69s 2s/step - loss: 2.8407 - accuracy: 0.1221 - val_loss: 2.6713 - val_accuracy: 0.2033\n",
            "Epoch 4/200\n",
            "44/44 [==============================] - 69s 2s/step - loss: 2.6001 - accuracy: 0.2000 - val_loss: 2.4842 - val_accuracy: 0.2667\n",
            "Epoch 5/200\n",
            "44/44 [==============================] - 69s 2s/step - loss: 2.4249 - accuracy: 0.2686 - val_loss: 2.3149 - val_accuracy: 0.3283\n",
            "Epoch 6/200\n",
            "44/44 [==============================] - 70s 2s/step - loss: 2.2252 - accuracy: 0.3307 - val_loss: 2.1676 - val_accuracy: 0.3983\n",
            "Epoch 7/200\n",
            "44/44 [==============================] - 70s 2s/step - loss: 2.0886 - accuracy: 0.4079 - val_loss: 2.0375 - val_accuracy: 0.4500\n",
            "Epoch 8/200\n",
            "44/44 [==============================] - 70s 2s/step - loss: 1.9861 - accuracy: 0.4314 - val_loss: 1.9214 - val_accuracy: 0.4917\n",
            "Epoch 9/200\n",
            "44/44 [==============================] - 70s 2s/step - loss: 1.8255 - accuracy: 0.4664 - val_loss: 1.8195 - val_accuracy: 0.5450\n",
            "Epoch 10/200\n",
            "44/44 [==============================] - 70s 2s/step - loss: 1.7102 - accuracy: 0.5464 - val_loss: 1.7304 - val_accuracy: 0.5767\n",
            "Epoch 11/200\n",
            "44/44 [==============================] - 71s 2s/step - loss: 1.6325 - accuracy: 0.5529 - val_loss: 1.6505 - val_accuracy: 0.5983\n",
            "Epoch 12/200\n",
            "44/44 [==============================] - 70s 2s/step - loss: 1.5500 - accuracy: 0.5950 - val_loss: 1.5789 - val_accuracy: 0.6200\n",
            "Epoch 13/200\n",
            "44/44 [==============================] - 70s 2s/step - loss: 1.4571 - accuracy: 0.6200 - val_loss: 1.5154 - val_accuracy: 0.6333\n",
            "Epoch 14/200\n",
            "44/44 [==============================] - 70s 2s/step - loss: 1.4038 - accuracy: 0.6293 - val_loss: 1.4563 - val_accuracy: 0.6483\n",
            "Epoch 15/200\n",
            "44/44 [==============================] - 70s 2s/step - loss: 1.3312 - accuracy: 0.6643 - val_loss: 1.4040 - val_accuracy: 0.6550\n",
            "Epoch 16/200\n",
            "44/44 [==============================] - 70s 2s/step - loss: 1.2672 - accuracy: 0.6864 - val_loss: 1.3564 - val_accuracy: 0.6683\n",
            "Epoch 17/200\n",
            "44/44 [==============================] - 69s 2s/step - loss: 1.2072 - accuracy: 0.6957 - val_loss: 1.3129 - val_accuracy: 0.6783\n",
            "Epoch 18/200\n",
            "44/44 [==============================] - 70s 2s/step - loss: 1.1661 - accuracy: 0.7071 - val_loss: 1.2747 - val_accuracy: 0.6900\n",
            "Epoch 19/200\n",
            "44/44 [==============================] - 69s 2s/step - loss: 1.1412 - accuracy: 0.7243 - val_loss: 1.2371 - val_accuracy: 0.7017\n",
            "Epoch 20/200\n",
            "44/44 [==============================] - 69s 2s/step - loss: 1.0781 - accuracy: 0.7279 - val_loss: 1.2049 - val_accuracy: 0.7133\n",
            "Epoch 21/200\n",
            "44/44 [==============================] - 70s 2s/step - loss: 1.0289 - accuracy: 0.7629 - val_loss: 1.1768 - val_accuracy: 0.7150\n",
            "Epoch 22/200\n",
            "44/44 [==============================] - 70s 2s/step - loss: 1.0163 - accuracy: 0.7600 - val_loss: 1.1481 - val_accuracy: 0.7167\n",
            "Epoch 23/200\n",
            "44/44 [==============================] - 69s 2s/step - loss: 0.9754 - accuracy: 0.7771 - val_loss: 1.1200 - val_accuracy: 0.7267\n",
            "Epoch 24/200\n",
            "44/44 [==============================] - 70s 2s/step - loss: 0.9460 - accuracy: 0.7914 - val_loss: 1.0964 - val_accuracy: 0.7350\n",
            "Epoch 25/200\n",
            "44/44 [==============================] - 69s 2s/step - loss: 0.9071 - accuracy: 0.7936 - val_loss: 1.0735 - val_accuracy: 0.7350\n",
            "Epoch 26/200\n",
            "44/44 [==============================] - 69s 2s/step - loss: 0.8938 - accuracy: 0.7943 - val_loss: 1.0523 - val_accuracy: 0.7400\n",
            "Epoch 27/200\n",
            "44/44 [==============================] - 69s 2s/step - loss: 0.8613 - accuracy: 0.8021 - val_loss: 1.0313 - val_accuracy: 0.7433\n",
            "Epoch 28/200\n",
            "44/44 [==============================] - 69s 2s/step - loss: 0.8607 - accuracy: 0.7886 - val_loss: 1.0148 - val_accuracy: 0.7417\n",
            "Epoch 29/200\n",
            "44/44 [==============================] - 71s 2s/step - loss: 0.8156 - accuracy: 0.8179 - val_loss: 0.9970 - val_accuracy: 0.7550\n",
            "Epoch 30/200\n",
            "44/44 [==============================] - 71s 2s/step - loss: 0.8051 - accuracy: 0.8100 - val_loss: 0.9838 - val_accuracy: 0.7467\n",
            "Epoch 31/200\n",
            "44/44 [==============================] - 70s 2s/step - loss: 0.7707 - accuracy: 0.8293 - val_loss: 0.9649 - val_accuracy: 0.7550\n",
            "Epoch 32/200\n",
            "44/44 [==============================] - 70s 2s/step - loss: 0.7502 - accuracy: 0.8329 - val_loss: 0.9513 - val_accuracy: 0.7517\n",
            "Epoch 33/200\n",
            "44/44 [==============================] - 70s 2s/step - loss: 0.7365 - accuracy: 0.8429 - val_loss: 0.9380 - val_accuracy: 0.7633\n",
            "Epoch 34/200\n",
            "44/44 [==============================] - 70s 2s/step - loss: 0.7222 - accuracy: 0.8386 - val_loss: 0.9227 - val_accuracy: 0.7600\n",
            "Epoch 35/200\n",
            "44/44 [==============================] - 70s 2s/step - loss: 0.6928 - accuracy: 0.8514 - val_loss: 0.9110 - val_accuracy: 0.7700\n",
            "Epoch 36/200\n",
            "44/44 [==============================] - 70s 2s/step - loss: 0.6871 - accuracy: 0.8457 - val_loss: 0.8984 - val_accuracy: 0.7717\n",
            "Epoch 37/200\n",
            "44/44 [==============================] - 70s 2s/step - loss: 0.6726 - accuracy: 0.8536 - val_loss: 0.8868 - val_accuracy: 0.7850\n",
            "Epoch 38/200\n",
            "44/44 [==============================] - 70s 2s/step - loss: 0.6539 - accuracy: 0.8557 - val_loss: 0.8771 - val_accuracy: 0.7750\n",
            "Epoch 39/200\n",
            "44/44 [==============================] - 70s 2s/step - loss: 0.6429 - accuracy: 0.8486 - val_loss: 0.8662 - val_accuracy: 0.7833\n",
            "Epoch 40/200\n",
            "44/44 [==============================] - 70s 2s/step - loss: 0.6181 - accuracy: 0.8629 - val_loss: 0.8578 - val_accuracy: 0.7783\n",
            "Epoch 41/200\n",
            "44/44 [==============================] - 71s 2s/step - loss: 0.6079 - accuracy: 0.8721 - val_loss: 0.8477 - val_accuracy: 0.7850\n",
            "Epoch 42/200\n",
            "44/44 [==============================] - 71s 2s/step - loss: 0.6019 - accuracy: 0.8736 - val_loss: 0.8411 - val_accuracy: 0.7867\n",
            "Epoch 43/200\n",
            "44/44 [==============================] - 72s 2s/step - loss: 0.5676 - accuracy: 0.8843 - val_loss: 0.8321 - val_accuracy: 0.7900\n",
            "Epoch 44/200\n",
            "44/44 [==============================] - 71s 2s/step - loss: 0.5989 - accuracy: 0.8636 - val_loss: 0.8209 - val_accuracy: 0.7950\n",
            "Epoch 45/200\n",
            "44/44 [==============================] - 72s 2s/step - loss: 0.5567 - accuracy: 0.8886 - val_loss: 0.8143 - val_accuracy: 0.7933\n",
            "Epoch 46/200\n",
            "44/44 [==============================] - 72s 2s/step - loss: 0.5376 - accuracy: 0.8893 - val_loss: 0.8071 - val_accuracy: 0.7917\n",
            "Epoch 47/200\n",
            "44/44 [==============================] - 71s 2s/step - loss: 0.5466 - accuracy: 0.8779 - val_loss: 0.8027 - val_accuracy: 0.7933\n",
            "Epoch 48/200\n",
            "44/44 [==============================] - 72s 2s/step - loss: 0.5273 - accuracy: 0.8900 - val_loss: 0.7938 - val_accuracy: 0.7950\n",
            "Epoch 49/200\n",
            "44/44 [==============================] - 72s 2s/step - loss: 0.5254 - accuracy: 0.8807 - val_loss: 0.7864 - val_accuracy: 0.8000\n",
            "Epoch 50/200\n",
            "44/44 [==============================] - 72s 2s/step - loss: 0.5014 - accuracy: 0.8957 - val_loss: 0.7792 - val_accuracy: 0.8033\n",
            "Epoch 51/200\n",
            "44/44 [==============================] - 71s 2s/step - loss: 0.4913 - accuracy: 0.9043 - val_loss: 0.7748 - val_accuracy: 0.8033\n",
            "Epoch 52/200\n",
            "44/44 [==============================] - ETA: 0s - loss: 0.4835 - accuracy: 0.9050"
          ],
          "name": "stdout"
        },
        {
          "output_type": "error",
          "ename": "KeyboardInterrupt",
          "evalue": "ignored",
          "traceback": [
            "\u001b[0;31m---------------------------------------------------------------------------\u001b[0m",
            "\u001b[0;31mKeyboardInterrupt\u001b[0m                         Traceback (most recent call last)",
            "\u001b[0;32m<ipython-input-27-9075e2b6d954>\u001b[0m in \u001b[0;36m<module>\u001b[0;34m()\u001b[0m\n\u001b[1;32m      1\u001b[0m \u001b[0mbase_learning_rate\u001b[0m \u001b[0;34m=\u001b[0m \u001b[0;36m0.0001\u001b[0m\u001b[0;34m\u001b[0m\u001b[0;34m\u001b[0m\u001b[0m\n\u001b[1;32m      2\u001b[0m \u001b[0mmodel\u001b[0m\u001b[0;34m.\u001b[0m\u001b[0mcompile\u001b[0m\u001b[0;34m(\u001b[0m\u001b[0moptimizer\u001b[0m\u001b[0;34m=\u001b[0m\u001b[0mtf\u001b[0m\u001b[0;34m.\u001b[0m\u001b[0mkeras\u001b[0m\u001b[0;34m.\u001b[0m\u001b[0moptimizers\u001b[0m\u001b[0;34m.\u001b[0m\u001b[0mAdam\u001b[0m\u001b[0;34m(\u001b[0m\u001b[0mlr\u001b[0m\u001b[0;34m=\u001b[0m\u001b[0mbase_learning_rate\u001b[0m\u001b[0;34m)\u001b[0m\u001b[0;34m,\u001b[0m \u001b[0mloss\u001b[0m\u001b[0;34m=\u001b[0m\u001b[0mtf\u001b[0m\u001b[0;34m.\u001b[0m\u001b[0mkeras\u001b[0m\u001b[0;34m.\u001b[0m\u001b[0mlosses\u001b[0m\u001b[0;34m.\u001b[0m\u001b[0mSparseCategoricalCrossentropy\u001b[0m\u001b[0;34m(\u001b[0m\u001b[0mfrom_logits\u001b[0m\u001b[0;34m=\u001b[0m\u001b[0;32mTrue\u001b[0m\u001b[0;34m)\u001b[0m\u001b[0;34m,\u001b[0m \u001b[0mmetrics\u001b[0m\u001b[0;34m=\u001b[0m\u001b[0;34m[\u001b[0m\u001b[0;34m'accuracy'\u001b[0m\u001b[0;34m]\u001b[0m\u001b[0;34m)\u001b[0m\u001b[0;34m\u001b[0m\u001b[0;34m\u001b[0m\u001b[0m\n\u001b[0;32m----> 3\u001b[0;31m \u001b[0mhistory1\u001b[0m \u001b[0;34m=\u001b[0m \u001b[0mmodel\u001b[0m\u001b[0;34m.\u001b[0m\u001b[0mfit\u001b[0m\u001b[0;34m(\u001b[0m\u001b[0mx_train\u001b[0m\u001b[0;34m,\u001b[0m\u001b[0my_train\u001b[0m\u001b[0;34m,\u001b[0m\u001b[0mepochs\u001b[0m \u001b[0;34m=\u001b[0m \u001b[0;36m200\u001b[0m \u001b[0;34m,\u001b[0m \u001b[0mvalidation_data\u001b[0m \u001b[0;34m=\u001b[0m \u001b[0;34m(\u001b[0m\u001b[0mx_val\u001b[0m\u001b[0;34m,\u001b[0m \u001b[0my_val\u001b[0m\u001b[0;34m)\u001b[0m\u001b[0;34m)\u001b[0m\u001b[0;34m\u001b[0m\u001b[0;34m\u001b[0m\u001b[0m\n\u001b[0m",
            "\u001b[0;32m/usr/local/lib/python3.7/dist-packages/tensorflow/python/keras/engine/training.py\u001b[0m in \u001b[0;36mfit\u001b[0;34m(self, x, y, batch_size, epochs, verbose, callbacks, validation_split, validation_data, shuffle, class_weight, sample_weight, initial_epoch, steps_per_epoch, validation_steps, validation_batch_size, validation_freq, max_queue_size, workers, use_multiprocessing)\u001b[0m\n\u001b[1;32m   1223\u001b[0m               \u001b[0muse_multiprocessing\u001b[0m\u001b[0;34m=\u001b[0m\u001b[0muse_multiprocessing\u001b[0m\u001b[0;34m,\u001b[0m\u001b[0;34m\u001b[0m\u001b[0;34m\u001b[0m\u001b[0m\n\u001b[1;32m   1224\u001b[0m               \u001b[0mreturn_dict\u001b[0m\u001b[0;34m=\u001b[0m\u001b[0;32mTrue\u001b[0m\u001b[0;34m,\u001b[0m\u001b[0;34m\u001b[0m\u001b[0;34m\u001b[0m\u001b[0m\n\u001b[0;32m-> 1225\u001b[0;31m               _use_cached_eval_dataset=True)\n\u001b[0m\u001b[1;32m   1226\u001b[0m           \u001b[0mval_logs\u001b[0m \u001b[0;34m=\u001b[0m \u001b[0;34m{\u001b[0m\u001b[0;34m'val_'\u001b[0m \u001b[0;34m+\u001b[0m \u001b[0mname\u001b[0m\u001b[0;34m:\u001b[0m \u001b[0mval\u001b[0m \u001b[0;32mfor\u001b[0m \u001b[0mname\u001b[0m\u001b[0;34m,\u001b[0m \u001b[0mval\u001b[0m \u001b[0;32min\u001b[0m \u001b[0mval_logs\u001b[0m\u001b[0;34m.\u001b[0m\u001b[0mitems\u001b[0m\u001b[0;34m(\u001b[0m\u001b[0;34m)\u001b[0m\u001b[0;34m}\u001b[0m\u001b[0;34m\u001b[0m\u001b[0;34m\u001b[0m\u001b[0m\n\u001b[1;32m   1227\u001b[0m           \u001b[0mepoch_logs\u001b[0m\u001b[0;34m.\u001b[0m\u001b[0mupdate\u001b[0m\u001b[0;34m(\u001b[0m\u001b[0mval_logs\u001b[0m\u001b[0;34m)\u001b[0m\u001b[0;34m\u001b[0m\u001b[0;34m\u001b[0m\u001b[0m\n",
            "\u001b[0;32m/usr/local/lib/python3.7/dist-packages/tensorflow/python/keras/engine/training.py\u001b[0m in \u001b[0;36mevaluate\u001b[0;34m(self, x, y, batch_size, verbose, sample_weight, steps, callbacks, max_queue_size, workers, use_multiprocessing, return_dict, **kwargs)\u001b[0m\n\u001b[1;32m   1487\u001b[0m             \u001b[0;32mwith\u001b[0m \u001b[0mtrace\u001b[0m\u001b[0;34m.\u001b[0m\u001b[0mTrace\u001b[0m\u001b[0;34m(\u001b[0m\u001b[0;34m'test'\u001b[0m\u001b[0;34m,\u001b[0m \u001b[0mstep_num\u001b[0m\u001b[0;34m=\u001b[0m\u001b[0mstep\u001b[0m\u001b[0;34m,\u001b[0m \u001b[0m_r\u001b[0m\u001b[0;34m=\u001b[0m\u001b[0;36m1\u001b[0m\u001b[0;34m)\u001b[0m\u001b[0;34m:\u001b[0m\u001b[0;34m\u001b[0m\u001b[0;34m\u001b[0m\u001b[0m\n\u001b[1;32m   1488\u001b[0m               \u001b[0mcallbacks\u001b[0m\u001b[0;34m.\u001b[0m\u001b[0mon_test_batch_begin\u001b[0m\u001b[0;34m(\u001b[0m\u001b[0mstep\u001b[0m\u001b[0;34m)\u001b[0m\u001b[0;34m\u001b[0m\u001b[0;34m\u001b[0m\u001b[0m\n\u001b[0;32m-> 1489\u001b[0;31m               \u001b[0mtmp_logs\u001b[0m \u001b[0;34m=\u001b[0m \u001b[0mself\u001b[0m\u001b[0;34m.\u001b[0m\u001b[0mtest_function\u001b[0m\u001b[0;34m(\u001b[0m\u001b[0miterator\u001b[0m\u001b[0;34m)\u001b[0m\u001b[0;34m\u001b[0m\u001b[0;34m\u001b[0m\u001b[0m\n\u001b[0m\u001b[1;32m   1490\u001b[0m               \u001b[0;32mif\u001b[0m \u001b[0mdata_handler\u001b[0m\u001b[0;34m.\u001b[0m\u001b[0mshould_sync\u001b[0m\u001b[0;34m:\u001b[0m\u001b[0;34m\u001b[0m\u001b[0;34m\u001b[0m\u001b[0m\n\u001b[1;32m   1491\u001b[0m                 \u001b[0mcontext\u001b[0m\u001b[0;34m.\u001b[0m\u001b[0masync_wait\u001b[0m\u001b[0;34m(\u001b[0m\u001b[0;34m)\u001b[0m\u001b[0;34m\u001b[0m\u001b[0;34m\u001b[0m\u001b[0m\n",
            "\u001b[0;32m/usr/local/lib/python3.7/dist-packages/tensorflow/python/eager/def_function.py\u001b[0m in \u001b[0;36m__call__\u001b[0;34m(self, *args, **kwds)\u001b[0m\n\u001b[1;32m    887\u001b[0m \u001b[0;34m\u001b[0m\u001b[0m\n\u001b[1;32m    888\u001b[0m       \u001b[0;32mwith\u001b[0m \u001b[0mOptionalXlaContext\u001b[0m\u001b[0;34m(\u001b[0m\u001b[0mself\u001b[0m\u001b[0;34m.\u001b[0m\u001b[0m_jit_compile\u001b[0m\u001b[0;34m)\u001b[0m\u001b[0;34m:\u001b[0m\u001b[0;34m\u001b[0m\u001b[0;34m\u001b[0m\u001b[0m\n\u001b[0;32m--> 889\u001b[0;31m         \u001b[0mresult\u001b[0m \u001b[0;34m=\u001b[0m \u001b[0mself\u001b[0m\u001b[0;34m.\u001b[0m\u001b[0m_call\u001b[0m\u001b[0;34m(\u001b[0m\u001b[0;34m*\u001b[0m\u001b[0margs\u001b[0m\u001b[0;34m,\u001b[0m \u001b[0;34m**\u001b[0m\u001b[0mkwds\u001b[0m\u001b[0;34m)\u001b[0m\u001b[0;34m\u001b[0m\u001b[0;34m\u001b[0m\u001b[0m\n\u001b[0m\u001b[1;32m    890\u001b[0m \u001b[0;34m\u001b[0m\u001b[0m\n\u001b[1;32m    891\u001b[0m       \u001b[0mnew_tracing_count\u001b[0m \u001b[0;34m=\u001b[0m \u001b[0mself\u001b[0m\u001b[0;34m.\u001b[0m\u001b[0mexperimental_get_tracing_count\u001b[0m\u001b[0;34m(\u001b[0m\u001b[0;34m)\u001b[0m\u001b[0;34m\u001b[0m\u001b[0;34m\u001b[0m\u001b[0m\n",
            "\u001b[0;32m/usr/local/lib/python3.7/dist-packages/tensorflow/python/eager/def_function.py\u001b[0m in \u001b[0;36m_call\u001b[0;34m(self, *args, **kwds)\u001b[0m\n\u001b[1;32m    922\u001b[0m       \u001b[0;31m# In this case we have not created variables on the first call. So we can\u001b[0m\u001b[0;34m\u001b[0m\u001b[0;34m\u001b[0m\u001b[0;34m\u001b[0m\u001b[0m\n\u001b[1;32m    923\u001b[0m       \u001b[0;31m# run the first trace but we should fail if variables are created.\u001b[0m\u001b[0;34m\u001b[0m\u001b[0;34m\u001b[0m\u001b[0;34m\u001b[0m\u001b[0m\n\u001b[0;32m--> 924\u001b[0;31m       \u001b[0mresults\u001b[0m \u001b[0;34m=\u001b[0m \u001b[0mself\u001b[0m\u001b[0;34m.\u001b[0m\u001b[0m_stateful_fn\u001b[0m\u001b[0;34m(\u001b[0m\u001b[0;34m*\u001b[0m\u001b[0margs\u001b[0m\u001b[0;34m,\u001b[0m \u001b[0;34m**\u001b[0m\u001b[0mkwds\u001b[0m\u001b[0;34m)\u001b[0m\u001b[0;34m\u001b[0m\u001b[0;34m\u001b[0m\u001b[0m\n\u001b[0m\u001b[1;32m    925\u001b[0m       \u001b[0;32mif\u001b[0m \u001b[0mself\u001b[0m\u001b[0;34m.\u001b[0m\u001b[0m_created_variables\u001b[0m\u001b[0;34m:\u001b[0m\u001b[0;34m\u001b[0m\u001b[0;34m\u001b[0m\u001b[0m\n\u001b[1;32m    926\u001b[0m         raise ValueError(\"Creating variables on a non-first call to a function\"\n",
            "\u001b[0;32m/usr/local/lib/python3.7/dist-packages/tensorflow/python/eager/function.py\u001b[0m in \u001b[0;36m__call__\u001b[0;34m(self, *args, **kwargs)\u001b[0m\n\u001b[1;32m   3022\u001b[0m        filtered_flat_args) = self._maybe_define_function(args, kwargs)\n\u001b[1;32m   3023\u001b[0m     return graph_function._call_flat(\n\u001b[0;32m-> 3024\u001b[0;31m         filtered_flat_args, captured_inputs=graph_function.captured_inputs)  # pylint: disable=protected-access\n\u001b[0m\u001b[1;32m   3025\u001b[0m \u001b[0;34m\u001b[0m\u001b[0m\n\u001b[1;32m   3026\u001b[0m   \u001b[0;34m@\u001b[0m\u001b[0mproperty\u001b[0m\u001b[0;34m\u001b[0m\u001b[0;34m\u001b[0m\u001b[0m\n",
            "\u001b[0;32m/usr/local/lib/python3.7/dist-packages/tensorflow/python/eager/function.py\u001b[0m in \u001b[0;36m_call_flat\u001b[0;34m(self, args, captured_inputs, cancellation_manager)\u001b[0m\n\u001b[1;32m   1959\u001b[0m       \u001b[0;31m# No tape is watching; skip to running the function.\u001b[0m\u001b[0;34m\u001b[0m\u001b[0;34m\u001b[0m\u001b[0;34m\u001b[0m\u001b[0m\n\u001b[1;32m   1960\u001b[0m       return self._build_call_outputs(self._inference_function.call(\n\u001b[0;32m-> 1961\u001b[0;31m           ctx, args, cancellation_manager=cancellation_manager))\n\u001b[0m\u001b[1;32m   1962\u001b[0m     forward_backward = self._select_forward_and_backward_functions(\n\u001b[1;32m   1963\u001b[0m         \u001b[0margs\u001b[0m\u001b[0;34m,\u001b[0m\u001b[0;34m\u001b[0m\u001b[0;34m\u001b[0m\u001b[0m\n",
            "\u001b[0;32m/usr/local/lib/python3.7/dist-packages/tensorflow/python/eager/function.py\u001b[0m in \u001b[0;36mcall\u001b[0;34m(self, ctx, args, cancellation_manager)\u001b[0m\n\u001b[1;32m    594\u001b[0m               \u001b[0minputs\u001b[0m\u001b[0;34m=\u001b[0m\u001b[0margs\u001b[0m\u001b[0;34m,\u001b[0m\u001b[0;34m\u001b[0m\u001b[0;34m\u001b[0m\u001b[0m\n\u001b[1;32m    595\u001b[0m               \u001b[0mattrs\u001b[0m\u001b[0;34m=\u001b[0m\u001b[0mattrs\u001b[0m\u001b[0;34m,\u001b[0m\u001b[0;34m\u001b[0m\u001b[0;34m\u001b[0m\u001b[0m\n\u001b[0;32m--> 596\u001b[0;31m               ctx=ctx)\n\u001b[0m\u001b[1;32m    597\u001b[0m         \u001b[0;32melse\u001b[0m\u001b[0;34m:\u001b[0m\u001b[0;34m\u001b[0m\u001b[0;34m\u001b[0m\u001b[0m\n\u001b[1;32m    598\u001b[0m           outputs = execute.execute_with_cancellation(\n",
            "\u001b[0;32m/usr/local/lib/python3.7/dist-packages/tensorflow/python/eager/execute.py\u001b[0m in \u001b[0;36mquick_execute\u001b[0;34m(op_name, num_outputs, inputs, attrs, ctx, name)\u001b[0m\n\u001b[1;32m     58\u001b[0m     \u001b[0mctx\u001b[0m\u001b[0;34m.\u001b[0m\u001b[0mensure_initialized\u001b[0m\u001b[0;34m(\u001b[0m\u001b[0;34m)\u001b[0m\u001b[0;34m\u001b[0m\u001b[0;34m\u001b[0m\u001b[0m\n\u001b[1;32m     59\u001b[0m     tensors = pywrap_tfe.TFE_Py_Execute(ctx._handle, device_name, op_name,\n\u001b[0;32m---> 60\u001b[0;31m                                         inputs, attrs, num_outputs)\n\u001b[0m\u001b[1;32m     61\u001b[0m   \u001b[0;32mexcept\u001b[0m \u001b[0mcore\u001b[0m\u001b[0;34m.\u001b[0m\u001b[0m_NotOkStatusException\u001b[0m \u001b[0;32mas\u001b[0m \u001b[0me\u001b[0m\u001b[0;34m:\u001b[0m\u001b[0;34m\u001b[0m\u001b[0;34m\u001b[0m\u001b[0m\n\u001b[1;32m     62\u001b[0m     \u001b[0;32mif\u001b[0m \u001b[0mname\u001b[0m \u001b[0;32mis\u001b[0m \u001b[0;32mnot\u001b[0m \u001b[0;32mNone\u001b[0m\u001b[0;34m:\u001b[0m\u001b[0;34m\u001b[0m\u001b[0;34m\u001b[0m\u001b[0m\n",
            "\u001b[0;31mKeyboardInterrupt\u001b[0m: "
          ]
        }
      ]
    },
    {
      "cell_type": "code",
      "metadata": {
        "colab": {
          "base_uri": "https://localhost:8080/"
        },
        "id": "T71VLEMMQiK0",
        "outputId": "ee6bb80b-4b8f-4fe0-f4c8-4de456ef7934"
      },
      "source": [
        "model.save('/content/drive/MyDrive/myModel.h5')"
      ],
      "execution_count": null,
      "outputs": [
        {
          "output_type": "stream",
          "text": [
            "/usr/local/lib/python3.7/dist-packages/tensorflow/python/keras/utils/generic_utils.py:497: CustomMaskWarning: Custom mask layers require a config and must override get_config. When loading, the custom mask layer must be passed to the custom_objects argument.\n",
            "  category=CustomMaskWarning)\n"
          ],
          "name": "stderr"
        }
      ]
    },
    {
      "cell_type": "code",
      "metadata": {
        "id": "x_tafvdVFPDC"
      },
      "source": [
        "model = tf.keras.models.load_model('/content/drive/MyDrive/myModel.h5')"
      ],
      "execution_count": 2,
      "outputs": []
    },
    {
      "cell_type": "code",
      "metadata": {
        "colab": {
          "base_uri": "https://localhost:8080/"
        },
        "id": "o2mgFH6bFcIL",
        "outputId": "df813273-560e-43a3-ffc6-f0ea08109240"
      },
      "source": [
        "history1 = model.fit(x_train,y_train,epochs = 15 , validation_data = (x_val, y_val))"
      ],
      "execution_count": 13,
      "outputs": [
        {
          "output_type": "stream",
          "text": [
            "Epoch 1/15\n"
          ],
          "name": "stdout"
        },
        {
          "output_type": "stream",
          "text": [
            "/usr/local/lib/python3.7/dist-packages/tensorflow/python/keras/backend.py:4930: UserWarning: \"`sparse_categorical_crossentropy` received `from_logits=True`, but the `output` argument was produced by a sigmoid or softmax activation and thus does not represent logits. Was this intended?\"\n",
            "  '\"`sparse_categorical_crossentropy` received `from_logits=True`, but '\n"
          ],
          "name": "stderr"
        },
        {
          "output_type": "stream",
          "text": [
            "44/44 [==============================] - 68s 2s/step - loss: 0.4668 - accuracy: 0.9071 - val_loss: 0.7625 - val_accuracy: 0.8017\n",
            "Epoch 2/15\n",
            "44/44 [==============================] - 67s 2s/step - loss: 0.4719 - accuracy: 0.9021 - val_loss: 0.7606 - val_accuracy: 0.8033\n",
            "Epoch 3/15\n",
            "44/44 [==============================] - 65s 1s/step - loss: 0.4615 - accuracy: 0.9079 - val_loss: 0.7493 - val_accuracy: 0.8100\n",
            "Epoch 4/15\n",
            "44/44 [==============================] - 65s 1s/step - loss: 0.4565 - accuracy: 0.9043 - val_loss: 0.7440 - val_accuracy: 0.8100\n",
            "Epoch 5/15\n",
            "44/44 [==============================] - 66s 2s/step - loss: 0.4446 - accuracy: 0.9200 - val_loss: 0.7406 - val_accuracy: 0.8117\n",
            "Epoch 6/15\n",
            "44/44 [==============================] - 66s 2s/step - loss: 0.4291 - accuracy: 0.9200 - val_loss: 0.7342 - val_accuracy: 0.8083\n",
            "Epoch 7/15\n",
            "44/44 [==============================] - 66s 2s/step - loss: 0.4408 - accuracy: 0.9079 - val_loss: 0.7286 - val_accuracy: 0.8150\n",
            "Epoch 8/15\n",
            "44/44 [==============================] - 66s 1s/step - loss: 0.4203 - accuracy: 0.9214 - val_loss: 0.7275 - val_accuracy: 0.8133\n",
            "Epoch 9/15\n",
            "44/44 [==============================] - 66s 2s/step - loss: 0.4040 - accuracy: 0.9214 - val_loss: 0.7217 - val_accuracy: 0.8117\n",
            "Epoch 10/15\n",
            "44/44 [==============================] - 66s 2s/step - loss: 0.4077 - accuracy: 0.9193 - val_loss: 0.7190 - val_accuracy: 0.8100\n",
            "Epoch 11/15\n",
            "44/44 [==============================] - 66s 2s/step - loss: 0.3890 - accuracy: 0.9300 - val_loss: 0.7146 - val_accuracy: 0.8100\n",
            "Epoch 12/15\n",
            "44/44 [==============================] - 66s 2s/step - loss: 0.3913 - accuracy: 0.9257 - val_loss: 0.7111 - val_accuracy: 0.8033\n",
            "Epoch 13/15\n",
            "44/44 [==============================] - 65s 1s/step - loss: 0.3786 - accuracy: 0.9321 - val_loss: 0.7077 - val_accuracy: 0.8117\n",
            "Epoch 14/15\n",
            "44/44 [==============================] - 66s 2s/step - loss: 0.3751 - accuracy: 0.9336 - val_loss: 0.7026 - val_accuracy: 0.8133\n",
            "Epoch 15/15\n",
            "44/44 [==============================] - 67s 2s/step - loss: 0.3742 - accuracy: 0.9393 - val_loss: 0.6970 - val_accuracy: 0.8150\n"
          ],
          "name": "stdout"
        }
      ]
    },
    {
      "cell_type": "code",
      "metadata": {
        "colab": {
          "base_uri": "https://localhost:8080/"
        },
        "id": "rKOUIauRKqtQ",
        "outputId": "44904ab1-6275-4833-c313-01cba3d39d86"
      },
      "source": [
        "print(history1.history.keys())"
      ],
      "execution_count": 14,
      "outputs": [
        {
          "output_type": "stream",
          "text": [
            "dict_keys(['loss', 'accuracy', 'val_loss', 'val_accuracy'])\n"
          ],
          "name": "stdout"
        }
      ]
    },
    {
      "cell_type": "code",
      "metadata": {
        "colab": {
          "base_uri": "https://localhost:8080/",
          "height": 295
        },
        "id": "Jv54row_LcZ9",
        "outputId": "6af48280-cee3-4c90-c438-a5dc69661755"
      },
      "source": [
        "# summarize history for accuracy\n",
        "plt.plot(history1.history['accuracy'])\n",
        "plt.plot(history1.history['val_accuracy'])\n",
        "plt.title('model accuracy')\n",
        "plt.ylabel('accuracy')\n",
        "plt.xlabel('epoch')\n",
        "plt.legend(['train', 'test'], loc='upper left')\n",
        "plt.show()"
      ],
      "execution_count": 15,
      "outputs": [
        {
          "output_type": "display_data",
          "data": {
            "image/png": "[encoded data removed]",
            "text/plain": [
              "<Figure size 432x288 with 1 Axes>"
            ]
          },
          "metadata": {
            "tags": [],
            "needs_background": "light"
          }
        }
      ]
    },
    {
      "cell_type": "code",
      "metadata": {
        "colab": {
          "base_uri": "https://localhost:8080/",
          "height": 295
        },
        "id": "3j7TlQ-cLebi",
        "outputId": "ecf26dfc-33d2-42c9-ef7f-eb1de02dcb39"
      },
      "source": [
        "# summarize history for loss\n",
        "plt.plot(history1.history['loss'])\n",
        "plt.plot(history1.history['val_loss'])\n",
        "plt.title('model loss')\n",
        "plt.ylabel('loss')\n",
        "plt.xlabel('epoch')\n",
        "plt.legend(['train', 'test'], loc='upper left')\n",
        "plt.show()"
      ],
      "execution_count": 17,
      "outputs": [
        {
          "output_type": "display_data",
          "data": {
            "image/png": "[encoded data removed]",
            "text/plain": [
              "<Figure size 432x288 with 1 Axes>"
            ]
          },
          "metadata": {
            "tags": [],
            "needs_background": "light"
          }
        }
      ]
    },
    {
      "cell_type": "code",
      "metadata": {
        "colab": {
          "base_uri": "https://localhost:8080/"
        },
        "id": "osMiduwAMEfq",
        "outputId": "09d99daf-fe4e-49bf-d8e8-265bec0baa52"
      },
      "source": [
        "predictions = model.predict_classes(x_val)\n",
        "predictions = predictions.reshape(1,-1)[0]\n",
        "print(classification_report(y_val, predictions, target_names = categories))"
      ],
      "execution_count": 18,
      "outputs": [
        {
          "output_type": "stream",
          "text": [
            "/usr/local/lib/python3.7/dist-packages/tensorflow/python/keras/engine/sequential.py:455: UserWarning: `model.predict_classes()` is deprecated and will be removed after 2021-01-01. Please use instead:* `np.argmax(model.predict(x), axis=-1)`,   if your model does multi-class classification   (e.g. if it uses a `softmax` last-layer activation).* `(model.predict(x) > 0.5).astype(\"int32\")`,   if your model does binary classification   (e.g. if it uses a `sigmoid` last-layer activation).\n",
            "  warnings.warn('`model.predict_classes()` is deprecated and '\n"
          ],
          "name": "stderr"
        },
        {
          "output_type": "stream",
          "text": [
            "                  precision    recall  f1-score   support\n",
            "\n",
            "     gulab jamun       0.97      0.97      0.97        30\n",
            "          dhokla       0.82      0.93      0.87        30\n",
            "           poori       0.96      0.87      0.91        30\n",
            "      kathi roll       0.81      0.97      0.88        30\n",
            "            idly       0.80      0.80      0.80        30\n",
            "       meduvadai       0.93      0.83      0.88        30\n",
            "tandoori chicken       0.88      0.93      0.90        30\n",
            "      butternaan       0.84      0.70      0.76        30\n",
            "         noodles       0.93      0.90      0.92        30\n",
            "        vada pav       0.94      0.97      0.95        30\n",
            "        biriyani       0.83      0.80      0.81        30\n",
            "      ven pongal       0.73      0.90      0.81        30\n",
            "           chaat       0.65      0.80      0.72        30\n",
            "           halwa       0.57      0.77      0.66        30\n",
            "            upma       0.54      0.63      0.58        30\n",
            "    bisibelebath       0.62      0.33      0.43        30\n",
            "          samosa       0.91      0.70      0.79        30\n",
            "       paniyaram       0.97      0.93      0.95        30\n",
            "        chappati       0.93      0.83      0.88        30\n",
            "            dosa       0.85      0.73      0.79        30\n",
            "\n",
            "        accuracy                           0.81       600\n",
            "       macro avg       0.82      0.82      0.81       600\n",
            "    weighted avg       0.82      0.81      0.81       600\n",
            "\n"
          ],
          "name": "stdout"
        }
      ]
    },
    {
      "cell_type": "code",
      "metadata": {
        "colab": {
          "base_uri": "https://localhost:8080/",
          "height": 518
        },
        "id": "CxZM8VDyMemi",
        "outputId": "4ee94a67-80cd-4419-f376-76fe7759646e"
      },
      "source": [
        "cm2 = confusion_matrix(y_val, predictions)\n",
        "df_cm = pd.DataFrame(cm2, index = [i for i in categories],columns = [i for i in categories])\n",
        "plt.figure(figsize = (10,7))\n",
        "sn.heatmap(df_cm, annot=True,cmap=\"RdPu\")"
      ],
      "execution_count": 19,
      "outputs": [
        {
          "output_type": "execute_result",
          "data": {
            "text/plain": [
              "<matplotlib.axes._subplots.AxesSubplot at 0x7fb841225b50>"
            ]
          },
          "metadata": {
            "tags": []
          },
          "execution_count": 19
        },
        {
          "output_type": "display_data",
          "data": {
            "image/png": "[encoded data removed]",
            "text/plain": [
              "<Figure size 720x504 with 2 Axes>"
            ]
          },
          "metadata": {
            "tags": [],
            "needs_background": "light"
          }
        }
      ]
    },
    {
      "cell_type": "code",
      "metadata": {
        "colab": {
          "base_uri": "https://localhost:8080/",
          "height": 163
        },
        "id": "RwGARTCAM03C",
        "outputId": "5a884033-dbaa-46cf-8331-609a542183f2"
      },
      "source": [
        "tf.saved_model.save(model,'/content/drive/MyDrive/')"
      ],
      "execution_count": 21,
      "outputs": [
        {
          "output_type": "error",
          "ename": "AttributeError",
          "evalue": "ignored",
          "traceback": [
            "\u001b[0;31m---------------------------------------------------------------------------\u001b[0m",
            "\u001b[0;31mAttributeError\u001b[0m                            Traceback (most recent call last)",
            "\u001b[0;32m<ipython-input-21-0d6be15d8c06>\u001b[0m in \u001b[0;36m<module>\u001b[0;34m()\u001b[0m\n\u001b[0;32m----> 1\u001b[0;31m \u001b[0mtf\u001b[0m\u001b[0;34m.\u001b[0m\u001b[0mkeras\u001b[0m\u001b[0;34m.\u001b[0m\u001b[0msaved_model\u001b[0m\u001b[0;34m.\u001b[0m\u001b[0msave\u001b[0m\u001b[0;34m(\u001b[0m\u001b[0mmodel\u001b[0m\u001b[0;34m,\u001b[0m\u001b[0;34m'/content/drive/MyDrive/'\u001b[0m\u001b[0;34m)\u001b[0m\u001b[0;34m\u001b[0m\u001b[0;34m\u001b[0m\u001b[0m\n\u001b[0m",
            "\u001b[0;31mAttributeError\u001b[0m: module 'tensorflow.keras' has no attribute 'saved_model'"
          ]
        }
      ]
    },
    {
      "cell_type": "code",
      "metadata": {
        "colab": {
          "base_uri": "https://localhost:8080/"
        },
        "id": "wQnaO9zmRySs",
        "outputId": "b84b88c8-4b40-42fd-ef3f-4166b774976a"
      },
      "source": [
        "# Convert the model.\n",
        "converter = tf.lite.TFLiteConverter.from_keras_model(model)\n",
        "tflite_model = converter.convert()\n",
        "\n",
        "# Save the model.\n",
        "with open('/content/drive/MyDrive/model.tflite', 'wb') as f:\n",
        "  f.write(tflite_model)"
      ],
      "execution_count": 22,
      "outputs": [
        {
          "output_type": "stream",
          "text": [
            "WARNING:absl:Function `_wrapped_model` contains input name(s) mobilenetv2_1.00_224_input with unsupported characters which will be renamed to mobilenetv2_1_00_224_input in the SavedModel.\n",
            "/usr/local/lib/python3.7/dist-packages/tensorflow/python/keras/utils/generic_utils.py:497: CustomMaskWarning: Custom mask layers require a config and must override get_config. When loading, the custom mask layer must be passed to the custom_objects argument.\n",
            "  category=CustomMaskWarning)\n"
          ],
          "name": "stderr"
        },
        {
          "output_type": "stream",
          "text": [
            "INFO:tensorflow:Assets written to: /tmp/tmp8keuoz7u/assets\n"
          ],
          "name": "stdout"
        },
        {
          "output_type": "stream",
          "text": [
            "INFO:tensorflow:Assets written to: /tmp/tmp8keuoz7u/assets\n"
          ],
          "name": "stderr"
        }
      ]
    }
  ]
}